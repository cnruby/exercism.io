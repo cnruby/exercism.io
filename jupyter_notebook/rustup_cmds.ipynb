{
 "cells": [
  {
   "cell_type": "code",
   "execution_count": 1,
   "metadata": {},
   "outputs": [
    {
     "name": "stdout",
     "output_type": "stream",
     "text": [
      "\u001b[1minfo: \u001b[musing existing install for 'nightly-x86_64-apple-darwin'\n",
      "\u001b[1minfo: \u001b[mdefault toolchain set to 'nightly-x86_64-apple-darwin'\n",
      "\n",
      "  \u001b[1mnightly-x86_64-apple-darwin unchanged\u001b[m - rustc 1.40.0-nightly (b520af6fd 2019-11-03)\n",
      "\n"
     ]
    }
   ],
   "source": [
    "# https://github.com/rust-lang/rustup.rs/issues/451\n",
    "# Setting \"rustup default nightly\"\n",
    "!rustup default nightly"
   ]
  },
  {
   "cell_type": "code",
   "execution_count": 2,
   "metadata": {},
   "outputs": [
    {
     "name": "stdout",
     "output_type": "stream",
     "text": [
      "\u001b[1minfo: \u001b[musing existing install for 'stable-x86_64-apple-darwin'\n",
      "\u001b[1minfo: \u001b[mdefault toolchain set to 'stable-x86_64-apple-darwin'\n",
      "\n",
      "  \u001b[1mstable-x86_64-apple-darwin unchanged\u001b[m - rustc 1.38.0 (625451e37 2019-09-23)\n",
      "\n"
     ]
    }
   ],
   "source": [
    "# back to \"rustup default stable\"\n",
    "!rustup default stable"
   ]
  },
  {
   "cell_type": "code",
   "execution_count": null,
   "metadata": {},
   "outputs": [],
   "source": []
  }
 ],
 "metadata": {
  "kernelspec": {
   "display_name": "Python 3",
   "language": "python",
   "name": "python3"
  },
  "language_info": {
   "codemirror_mode": {
    "name": "ipython",
    "version": 3
   },
   "file_extension": ".py",
   "mimetype": "text/x-python",
   "name": "python",
   "nbconvert_exporter": "python",
   "pygments_lexer": "ipython3",
   "version": "3.7.4"
  }
 },
 "nbformat": 4,
 "nbformat_minor": 2
}
