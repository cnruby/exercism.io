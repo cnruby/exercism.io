{
 "cells": [
  {
   "cell_type": "code",
   "execution_count": 7,
   "metadata": {},
   "outputs": [],
   "source": [
    "# https://lib.rs/development-tools/cargo-plugins"
   ]
  },
  {
   "cell_type": "code",
   "execution_count": 1,
   "metadata": {},
   "outputs": [
    {
     "name": "stdout",
     "output_type": "stream",
     "text": [
      "bat v0.12.1:\n",
      "    bat\n",
      "borrowing_exerci v0.3.50:\n",
      "    bw\n",
      "    bwx\n",
      "cargo-asm v0.1.16:\n",
      "    cargo-asm\n",
      "    cargo-llvm-ir\n",
      "cargo-audit v0.9.3:\n",
      "    cargo-audit\n",
      "cargo-bloat v0.9.0:\n",
      "    cargo-bloat\n",
      "cargo-cache v0.3.3:\n",
      "    cargo-cache\n",
      "cargo-edit v0.4.0:\n",
      "    cargo-add\n",
      "    cargo-rm\n",
      "    cargo-upgrade\n",
      "cargo-expand v0.4.15:\n",
      "    cargo-expand\n",
      "cargo-generate v0.4.0:\n",
      "    cargo-generate\n",
      "cargo-hack v0.2.1:\n",
      "    cargo-hack\n",
      "cargo-play v0.4.0:\n",
      "    cargo-play\n",
      "cargo-run-script v0.1.0:\n",
      "    cargo-run-script\n",
      "cargo-script v0.2.8:\n",
      "    cargo-script\n",
      "    run-cargo-script\n",
      "cargo-update v2.1.0:\n",
      "    cargo-install-update\n",
      "    cargo-install-update-config\n",
      "cargo-watch v7.2.1:\n",
      "    cargo-watch\n",
      "chars v0.4.1:\n",
      "    chars\n",
      "evcxr_jupyter v0.4.5:\n",
      "    evcxr_jupyter\n",
      "evcxr_repl v0.4.5:\n",
      "    evcxr\n",
      "exa v0.9.0:\n",
      "    exa\n",
      "fd-find v7.4.0:\n",
      "    fd\n",
      "lrlex v0.4.2:\n",
      "    lrlex\n",
      "mdbook v0.3.4:\n",
      "    mdbook\n",
      "mdbook-bookimport v0.1.1:\n",
      "    mdbook-bookimport\n",
      "mdbook-i18n v0.1.0:\n",
      "    mdbook-i18n\n",
      "mdbook-linkcheck v0.4.0:\n",
      "    mdbook-linkcheck\n",
      "mdbook-presentation-preprocessor v0.2.2:\n",
      "    mdbook-presentation-preprocessor\n",
      "ripgrep v11.0.2:\n",
      "    rg\n",
      "sccache v0.2.12:\n",
      "    sccache\n"
     ]
    }
   ],
   "source": [
    "# https://github.com/rust-lang/cargo/issues/2922\n",
    "# List of installed crates\n",
    "!cargo install --list"
   ]
  },
  {
   "cell_type": "code",
   "execution_count": 6,
   "metadata": {},
   "outputs": [],
   "source": [
    "# https://crates.io/crates/mdbook\n",
    "# install old version or specific version\n",
    "# cargo install mdbook --vers \"0.3.1\" --force"
   ]
  },
  {
   "cell_type": "code",
   "execution_count": null,
   "metadata": {},
   "outputs": [],
   "source": []
  }
 ],
 "metadata": {
  "kernelspec": {
   "display_name": "Python 3",
   "language": "python",
   "name": "python3"
  },
  "language_info": {
   "codemirror_mode": {
    "name": "ipython",
    "version": 3
   },
   "file_extension": ".py",
   "mimetype": "text/x-python",
   "name": "python",
   "nbconvert_exporter": "python",
   "pygments_lexer": "ipython3",
   "version": "3.7.4"
  }
 },
 "nbformat": 4,
 "nbformat_minor": 2
}
