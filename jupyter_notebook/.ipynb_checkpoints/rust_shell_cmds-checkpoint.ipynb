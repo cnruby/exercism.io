{
 "cells": [
  {
   "cell_type": "code",
   "execution_count": 7,
   "metadata": {},
   "outputs": [
    {
     "name": "stdout",
     "output_type": "stream",
     "text": [
      "/Users/alps020/Documents/GitHub/learn-rust-by-crates/jupyter_notebook\r\n"
     ]
    }
   ],
   "source": [
    "# http://swcarpentry.github.io/shell-novice/\n",
    "# https://jakevdp.github.io/PythonDataScienceHandbook/01.05-ipython-and-shell-commands.html\n",
    "# https://blog.dominodatalab.com/lesser-known-ways-of-using-notebooks/\n",
    "!pwd"
   ]
  },
  {
   "cell_type": "code",
   "execution_count": 4,
   "metadata": {},
   "outputs": [
    {
     "name": "stdout",
     "output_type": "stream",
     "text": [
      "\u001b[4mPermissions\u001b[0m \u001b[4mSize\u001b[0m \u001b[4mUser\u001b[0m    \u001b[4mDate Modified\u001b[0m \u001b[4mGit\u001b[0m \u001b[4mName\u001b[0m\r\n",
      ".\u001b[1;33mr\u001b[31mw\u001b[0m\u001b[38;5;244m-\u001b[33mr\u001b[38;5;244m--\u001b[33mr\u001b[38;5;244m--\u001b[0m    \u001b[1;32m72\u001b[0m \u001b[1;33malps020\u001b[0m \u001b[34m 4 Nov 11:42\u001b[0m   \u001b[38;5;244m-\u001b[32mN\u001b[0m rust_shell_cmds.ipynb\r\n",
      ".\u001b[1;33mr\u001b[31mw\u001b[0m\u001b[38;5;244m-\u001b[33mr\u001b[38;5;244m--\u001b[33mr\u001b[38;5;244m--\u001b[0m  \u001b[1;32m1,8\u001b[0m\u001b[32mk\u001b[0m \u001b[1;33malps020\u001b[0m \u001b[34m 4 Nov 10:18\u001b[0m   \u001b[38;5;244m-\u001b[32mN\u001b[0m string_raw_pointer.ipynb\r\n",
      ".\u001b[1;33mr\u001b[31mw\u001b[0m\u001b[38;5;244m-\u001b[33mr\u001b[38;5;244m--\u001b[33mr\u001b[38;5;244m--\u001b[0m  \u001b[1;32m1,5\u001b[0m\u001b[32mk\u001b[0m \u001b[1;33malps020\u001b[0m \u001b[34m 4 Nov 10:19\u001b[0m   \u001b[38;5;244m-\u001b[32mN\u001b[0m Untitled.ipynb\r\n"
     ]
    }
   ],
   "source": [
    "# https://the.exa.website/\n",
    "# A modern replacement for ls.\n",
    "# cargo install exa\n",
    "!exa --long --header --git"
   ]
  },
  {
   "cell_type": "code",
   "execution_count": 14,
   "metadata": {},
   "outputs": [
    {
     "name": "stdout",
     "output_type": "stream",
     "text": [
      "\u001b[38;5;238m───────┬────────────────────────────────────────────────────────────────────────\u001b[0m\n",
      "       \u001b[38;5;238m│ \u001b[0mFile: \u001b[1mhello.rs\u001b[0m\n",
      "\u001b[38;5;238m───────┼────────────────────────────────────────────────────────────────────────\u001b[0m\n",
      "\u001b[38;5;238m   1\u001b[0m   \u001b[38;5;238m│\u001b[0m \u001b[38;2;102;217;239mfn\u001b[0m\u001b[38;2;248;248;242m \u001b[0m\u001b[38;2;166;226;46mmain\u001b[0m\u001b[38;2;248;248;242m(\u001b[0m\u001b[38;2;248;248;242m)\u001b[0m\u001b[38;2;248;248;242m \u001b[0m\u001b[38;2;248;248;242m{\u001b[0m\n",
      "\u001b[38;5;238m   2\u001b[0m   \u001b[38;5;238m│\u001b[0m \u001b[38;2;248;248;242m    \u001b[0m\u001b[38;2;248;248;242mprintln!\u001b[0m\u001b[38;2;248;248;242m(\u001b[0m\u001b[38;2;230;219;116m\"\u001b[0m\u001b[38;2;230;219;116mHello World!\u001b[0m\u001b[38;2;230;219;116m\"\u001b[0m\u001b[38;2;248;248;242m)\u001b[0m\n",
      "\u001b[38;5;238m   3\u001b[0m   \u001b[38;5;238m│\u001b[0m \u001b[38;2;248;248;242m}\u001b[0m\n",
      "\u001b[38;5;238m───────┴────────────────────────────────────────────────────────────────────────\u001b[0m\n"
     ]
    }
   ],
   "source": [
    "# https://crates.io/crates/bat\n",
    "# A cat(1) clone with wings. \n",
    "# cargo install bat\n",
    "!bat -l rs hello.rs"
   ]
  },
  {
   "cell_type": "code",
   "execution_count": 22,
   "metadata": {},
   "outputs": [
    {
     "name": "stdout",
     "output_type": "stream",
     "text": [
      "\u001b[0m\u001b[35mhello.rs\u001b[0m\n",
      "\u001b[0m\u001b[32m2\u001b[0m:    println!(\"\u001b[0m\u001b[1m\u001b[31mHello World!\u001b[0m\")\n",
      "\n",
      "\u001b[0m\u001b[35mrust_shell_cmds.ipynb\u001b[0m\n",
      "\u001b[0m\u001b[32m58\u001b[0m:      \"\\u001b[38;5;238m   2\\u001b[0m   \\u001b[38;5;238m│\\u001b[0m \\u001b[38;2;248;248;242m    \\u001b[0m\\u001b[38;2;248;248;242mprintln!\\u001b[0m\\u001b[38;2;248;248;242m(\\u001b[0m\\u001b[38;2;230;219;116m\\\"\\u001b[0m\\u001b[38;2;230;219;116m\u001b[0m\u001b[1m\u001b[31mHello World!\u001b[0m\\u001b[0m\\u001b[38;2;230;219;116m\\\"\\u001b[0m\\u001b[38;2;248;248;242m)\\u001b[0m\\n\",\n"
     ]
    }
   ],
   "source": [
    "# https://crates.io/crates/ripgrep\n",
    "# cargo install ripgrep\n",
    "!rg -i \"Hello World!\""
   ]
  },
  {
   "cell_type": "code",
   "execution_count": 3,
   "metadata": {},
   "outputs": [
    {
     "name": "stdout",
     "output_type": "stream",
     "text": [
      "hello.rs\r\n"
     ]
    }
   ],
   "source": [
    "# https://github.com/sharkdp/fd\n",
    "# cargo install fd-find\n",
    "!fd hello"
   ]
  },
  {
   "cell_type": "code",
   "execution_count": null,
   "metadata": {},
   "outputs": [],
   "source": []
  }
 ],
 "metadata": {
  "kernelspec": {
   "display_name": "Python 3",
   "language": "python",
   "name": "python3"
  },
  "language_info": {
   "codemirror_mode": {
    "name": "ipython",
    "version": 3
   },
   "file_extension": ".py",
   "mimetype": "text/x-python",
   "name": "python",
   "nbconvert_exporter": "python",
   "pygments_lexer": "ipython3",
   "version": "3.7.4"
  }
 },
 "nbformat": 4,
 "nbformat_minor": 2
}
